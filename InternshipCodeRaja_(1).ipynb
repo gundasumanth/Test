{
  "nbformat": 4,
  "nbformat_minor": 0,
  "metadata": {
    "colab": {
      "provenance": [],
      "include_colab_link": true
    },
    "kernelspec": {
      "name": "python3",
      "display_name": "Python 3"
    },
    "language_info": {
      "name": "python"
    }
  },
  "cells": [
    {
      "cell_type": "markdown",
      "metadata": {
        "id": "view-in-github",
        "colab_type": "text"
      },
      "source": [
        "<a href=\"https://colab.research.google.com/github/gundasumanth/Test/blob/main/InternshipCodeRaja_(1).ipynb\" target=\"_parent\"><img src=\"https://colab.research.google.com/assets/colab-badge.svg\" alt=\"Open In Colab\"/></a>"
      ]
    },
    {
      "cell_type": "code",
      "source": [
        "!pip install emoji\n",
        "import re\n",
        "import pandas as pd\n",
        "import numpy as np\n",
        "import emoji\n",
        "from collections import Counter\n",
        "import matplotlib.pyplot as plt\n",
        "from PIL import Image\n",
        "from wordcloud import WordCloud, STOPWORDS, ImageColorGenerator"
      ],
      "metadata": {
        "id": "AB9nqHvHIjTe",
        "colab": {
          "base_uri": "https://localhost:8080/"
        },
        "outputId": "9afb7783-35d7-46fe-9eac-704936badd3f"
      },
      "execution_count": 9,
      "outputs": [
        {
          "output_type": "stream",
          "name": "stdout",
          "text": [
            "Requirement already satisfied: emoji in /usr/local/lib/python3.10/dist-packages (2.9.0)\n"
          ]
        }
      ]
    },
    {
      "cell_type": "code",
      "source": [
        "def date_time(s):\n",
        "  pattern='^([0-9]+)(\\/)([0-9]+)(\\/)([0-9]+), ([0-9]+):([0-9]+)[ ]?(AM|PM|pm|am)? -'\n",
        "  result=re.match(pattern, s)\n",
        "  if result:\n",
        "    return True\n",
        "  else:\n",
        "    return False\n",
        "\n",
        "def find_contact(s):\n",
        "  s=s.split(':')\n",
        "  if len(s)==2:\n",
        "    return True\n",
        "  else:\n",
        "    return False\n",
        "def getMassage(line):\n",
        "  splitline=line.split(' - ')\n",
        "  datetime=splitline[0]\n",
        "  date, time=datetime.split(', ')\n",
        "  message=\" \".join(splitline[1:])\n",
        "  if find_contact(message):\n",
        "    splitmessage=message.split(': ')\n",
        "    author=splitmessage[0]\n",
        "    message=\" \".join(splitline[1:])\n",
        "  else:\n",
        "    author=None\n",
        "  return date, time, author, message\n"
      ],
      "metadata": {
        "id": "qzO-pIOLJYCQ"
      },
      "execution_count": 10,
      "outputs": []
    },
    {
      "cell_type": "code",
      "source": [
        "data=[]\n",
        "conversation=\"/content/export_chat.txt\"\n",
        "with open(conversation, encoding='utf-8')  as fp:\n",
        "  fp.readline()\n",
        "  messageBuffer=[]\n",
        "  date, time, author=None, None, None\n",
        "  while True:\n",
        "    line=fp.readline()\n",
        "    if not line:\n",
        "      break\n",
        "    line=line.strip()\n",
        "    if date_time(line):\n",
        "      if len(messageBuffer)>0:\n",
        "        data.append([date, time, author, ' '.join(messageBuffer)])\n",
        "      messageBuffer.clear()\n",
        "      date, time, author, message=getMassage(line)\n",
        "      messageBuffer.append(message)\n",
        "    else:\n",
        "      messageBuffer.append(line)"
      ],
      "metadata": {
        "id": "_SDWB-1dQbRf"
      },
      "execution_count": 11,
      "outputs": []
    },
    {
      "cell_type": "code",
      "source": [
        "df=pd.DataFrame(data, columns=['Date', 'Time', 'Contact', 'Message'])\n",
        "df['Date']=pd.to_datetime(df['Date'])\n",
        "data=df.dropna()\n",
        "import nltk\n",
        "nltk.download('vader_lexicon')\n",
        "from nltk.sentiment.vader import SentimentIntensityAnalyzer\n",
        "sentiments=SentimentIntensityAnalyzer()\n",
        "data['positive']=[sentiments.polarity_scores(i)['pos'] for i in data['Message']]\n",
        "data['negative']=[sentiments.polarity_scores(i)['neg'] for i in data['Message']]\n",
        "data['neutral']=[sentiments.polarity_scores(i)['neu'] for i in data['Message']]\n",
        "\n",
        "print(data.head(20))\n"
      ],
      "metadata": {
        "colab": {
          "base_uri": "https://localhost:8080/"
        },
        "id": "xd3MB9zCaBLl",
        "outputId": "644369f2-f299-4cab-f593-c1cf6aa8cdce"
      },
      "execution_count": 12,
      "outputs": [
        {
          "output_type": "stream",
          "name": "stdout",
          "text": [
            "         Date     Time  Contact  \\\n",
            "0  2019-10-31  9:19 pm    Badal   \n",
            "1  2019-10-31  9:19 pm    Vinay   \n",
            "2  2019-10-31  9:19 pm   Sister   \n",
            "3  2019-10-31  9:20 pm    Ankit   \n",
            "4  2019-10-31  9:20 pm       DJ   \n",
            "5  2019-10-31  9:20 pm  Brother   \n",
            "6  2019-10-31  9:21 pm      Dad   \n",
            "7  2019-10-31  9:22 pm      Mom   \n",
            "8  2019-10-31  9:25 pm    Vinay   \n",
            "9  2019-10-31  9:27 pm   Vineet   \n",
            "10 2019-10-31  9:30 pm    Vinay   \n",
            "11 2019-10-31  9:30 pm     Vina   \n",
            "12 2019-10-31  9:30 pm     Vina   \n",
            "13 2019-10-31  9:30 pm     Vina   \n",
            "14 2019-10-31  9:30 pm      Dad   \n",
            "15 2019-10-31  9:30 pm    Ankit   \n",
            "16 2019-10-31  9:30 pm    Gullu   \n",
            "\n",
            "                                              Message  positive  negative  \\\n",
            "0                Badal: just go and purchase its good     0.326     0.000   \n",
            "1                                 Vinay: Never buy it     0.000     0.000   \n",
            "2             Sister: Go and try this product is best     0.375     0.000   \n",
            "3            Ankit: Don't buy this its bad disgusting     0.000     0.580   \n",
            "4                            DJ: Wow marvelous design     0.794     0.000   \n",
            "5   Brother: This is best product ever i have seen...     0.512     0.000   \n",
            "6        Dad: So when are you buying it's pretty good     0.466     0.000   \n",
            "7                 Mom: I want to buy another, love it     0.524     0.000   \n",
            "8   Vinay: If you buy you will like you are in heaven     0.392     0.000   \n",
            "9                    Vineet: Don't buy its very worst     0.000     0.468   \n",
            "10         Vinay: You will Enjoy this product awesome     0.593     0.000   \n",
            "11                              Vina: value for money     0.444     0.000   \n",
            "12                    Vina: Not portable bad for this     0.363     0.000   \n",
            "13  Vina: but this is not for child if you have do...     0.000     0.000   \n",
            "14                    Dad: Worst than any other brand     0.000     0.451   \n",
            "15                      Ankit: Best Technical support     0.775     0.000   \n",
            "16                       Gullu: For student it is bad     0.000     0.412   \n",
            "\n",
            "    neutral  \n",
            "0     0.674  \n",
            "1     1.000  \n",
            "2     0.625  \n",
            "3     0.420  \n",
            "4     0.206  \n",
            "5     0.488  \n",
            "6     0.534  \n",
            "7     0.476  \n",
            "8     0.608  \n",
            "9     0.532  \n",
            "10    0.407  \n",
            "11    0.556  \n",
            "12    0.637  \n",
            "13    1.000  \n",
            "14    0.549  \n",
            "15    0.225  \n",
            "16    0.588  \n"
          ]
        },
        {
          "output_type": "stream",
          "name": "stderr",
          "text": [
            "[nltk_data] Downloading package vader_lexicon to /root/nltk_data...\n",
            "[nltk_data]   Package vader_lexicon is already up-to-date!\n"
          ]
        }
      ]
    },
    {
      "cell_type": "code",
      "source": [
        "x=sum(data['positive'])\n",
        "y=sum(data['negative'])\n",
        "z=sum(data['neutral'])\n",
        "def score(a,b,c):\n",
        "  if a>b and a>c:\n",
        "    print('Positive')\n",
        "  if b>a and b>c:\n",
        "    print('Negative')\n",
        "  if c>a and c>b:\n",
        "    print('Neutral')\n",
        "\n",
        "score(x,y,z)"
      ],
      "metadata": {
        "colab": {
          "base_uri": "https://localhost:8080/"
        },
        "id": "6t-PGAczfIJC",
        "outputId": "15861aaa-84c8-42bb-e7ef-803aeb62b407"
      },
      "execution_count": 13,
      "outputs": [
        {
          "output_type": "stream",
          "name": "stdout",
          "text": [
            "Neutral\n"
          ]
        }
      ]
    }
  ]
}